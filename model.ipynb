{
  "nbformat": 4,
  "nbformat_minor": 0,
  "metadata": {
    "colab": {
      "name": "model.ipynb",
      "provenance": []
    },
    "kernelspec": {
      "name": "python3",
      "display_name": "Python 3"
    },
    "language_info": {
      "name": "python"
    },
    "accelerator": "GPU"
  },
  "cells": [
    {
      "cell_type": "code",
      "metadata": {
        "colab": {
          "base_uri": "https://localhost:8080/"
        },
        "id": "ubF5zv7lPB49",
        "outputId": "c3974d2f-e755-439e-c4c5-6e56d7126daa"
      },
      "source": [
        "!git clone https://github.com/BNUCNL/dnnbrain.git"
      ],
      "execution_count": null,
      "outputs": [
        {
          "output_type": "stream",
          "text": [
            "Cloning into 'dnnbrain'...\n",
            "remote: Enumerating objects: 5558, done.\u001b[K\n",
            "remote: Counting objects: 100% (125/125), done.\u001b[K\n",
            "remote: Compressing objects: 100% (90/90), done.\u001b[K\n",
            "remote: Total 5558 (delta 55), reused 73 (delta 34), pack-reused 5433\u001b[K\n",
            "Receiving objects: 100% (5558/5558), 9.85 MiB | 20.66 MiB/s, done.\n",
            "Resolving deltas: 100% (3580/3580), done.\n"
          ],
          "name": "stdout"
        }
      ]
    },
    {
      "cell_type": "code",
      "metadata": {
        "colab": {
          "base_uri": "https://localhost:8080/"
        },
        "id": "2Mb2Un_MREgh",
        "outputId": "08e242f9-0e75-4cb0-9079-86fc46ed74f5"
      },
      "source": [
        "%cd /content/dnnbrain/\n",
        "!python setup.py install"
      ],
      "execution_count": null,
      "outputs": [
        {
          "output_type": "stream",
          "text": [
            "/content/dnnbrain\n",
            "/usr/local/lib/python3.7/dist-packages/setuptools/dist.py:484: UserWarning: Normalizing '1.0a' to '1.0a0'\n",
            "  warnings.warn(tmpl.format(**locals()))\n",
            "running install\n",
            "running bdist_egg\n",
            "running egg_info\n",
            "creating dnnbrain.egg-info\n",
            "writing dnnbrain.egg-info/PKG-INFO\n",
            "writing dependency_links to dnnbrain.egg-info/dependency_links.txt\n",
            "writing top-level names to dnnbrain.egg-info/top_level.txt\n",
            "writing manifest file 'dnnbrain.egg-info/SOURCES.txt'\n",
            "adding license file 'LICENSE'\n",
            "writing manifest file 'dnnbrain.egg-info/SOURCES.txt'\n",
            "installing library code to build/bdist.linux-x86_64/egg\n",
            "running install_lib\n",
            "running build_py\n",
            "creating build\n",
            "creating build/lib\n",
            "creating build/lib/dnnbrain\n",
            "copying dnnbrain/__init__.py -> build/lib/dnnbrain\n",
            "creating build/lib/dnnbrain/dnn\n",
            "copying dnnbrain/dnn/base.py -> build/lib/dnnbrain/dnn\n",
            "copying dnnbrain/dnn/models.py -> build/lib/dnnbrain/dnn\n",
            "copying dnnbrain/dnn/core.py -> build/lib/dnnbrain/dnn\n",
            "copying dnnbrain/dnn/__init__.py -> build/lib/dnnbrain/dnn\n",
            "copying dnnbrain/dnn/algo.py -> build/lib/dnnbrain/dnn\n",
            "creating build/lib/dnnbrain/brain\n",
            "copying dnnbrain/brain/core.py -> build/lib/dnnbrain/brain\n",
            "copying dnnbrain/brain/io.py -> build/lib/dnnbrain/brain\n",
            "copying dnnbrain/brain/__init__.py -> build/lib/dnnbrain/brain\n",
            "copying dnnbrain/brain/algo.py -> build/lib/dnnbrain/brain\n",
            "creating build/lib/dnnbrain/viz\n",
            "copying dnnbrain/viz/__init__.py -> build/lib/dnnbrain/viz\n",
            "creating build/lib/dnnbrain/utils\n",
            "copying dnnbrain/utils/plot.py -> build/lib/dnnbrain/utils\n",
            "copying dnnbrain/utils/vggish_params.py -> build/lib/dnnbrain/utils\n",
            "copying dnnbrain/utils/mel_features.py -> build/lib/dnnbrain/utils\n",
            "copying dnnbrain/utils/__init__.py -> build/lib/dnnbrain/utils\n",
            "copying dnnbrain/utils/vggish_input.py -> build/lib/dnnbrain/utils\n",
            "copying dnnbrain/utils/util.py -> build/lib/dnnbrain/utils\n",
            "creating build/lib/dnnbrain/io\n",
            "copying dnnbrain/io/fileio.py -> build/lib/dnnbrain/io\n",
            "copying dnnbrain/io/__init__.py -> build/lib/dnnbrain/io\n",
            "creating build/bdist.linux-x86_64\n",
            "creating build/bdist.linux-x86_64/egg\n",
            "creating build/bdist.linux-x86_64/egg/dnnbrain\n",
            "creating build/bdist.linux-x86_64/egg/dnnbrain/dnn\n",
            "copying build/lib/dnnbrain/dnn/base.py -> build/bdist.linux-x86_64/egg/dnnbrain/dnn\n",
            "copying build/lib/dnnbrain/dnn/models.py -> build/bdist.linux-x86_64/egg/dnnbrain/dnn\n",
            "copying build/lib/dnnbrain/dnn/core.py -> build/bdist.linux-x86_64/egg/dnnbrain/dnn\n",
            "copying build/lib/dnnbrain/dnn/__init__.py -> build/bdist.linux-x86_64/egg/dnnbrain/dnn\n",
            "copying build/lib/dnnbrain/dnn/algo.py -> build/bdist.linux-x86_64/egg/dnnbrain/dnn\n",
            "creating build/bdist.linux-x86_64/egg/dnnbrain/brain\n",
            "copying build/lib/dnnbrain/brain/core.py -> build/bdist.linux-x86_64/egg/dnnbrain/brain\n",
            "copying build/lib/dnnbrain/brain/io.py -> build/bdist.linux-x86_64/egg/dnnbrain/brain\n",
            "copying build/lib/dnnbrain/brain/__init__.py -> build/bdist.linux-x86_64/egg/dnnbrain/brain\n",
            "copying build/lib/dnnbrain/brain/algo.py -> build/bdist.linux-x86_64/egg/dnnbrain/brain\n",
            "creating build/bdist.linux-x86_64/egg/dnnbrain/viz\n",
            "copying build/lib/dnnbrain/viz/__init__.py -> build/bdist.linux-x86_64/egg/dnnbrain/viz\n",
            "copying build/lib/dnnbrain/__init__.py -> build/bdist.linux-x86_64/egg/dnnbrain\n",
            "creating build/bdist.linux-x86_64/egg/dnnbrain/utils\n",
            "copying build/lib/dnnbrain/utils/plot.py -> build/bdist.linux-x86_64/egg/dnnbrain/utils\n",
            "copying build/lib/dnnbrain/utils/vggish_params.py -> build/bdist.linux-x86_64/egg/dnnbrain/utils\n",
            "copying build/lib/dnnbrain/utils/mel_features.py -> build/bdist.linux-x86_64/egg/dnnbrain/utils\n",
            "copying build/lib/dnnbrain/utils/__init__.py -> build/bdist.linux-x86_64/egg/dnnbrain/utils\n",
            "copying build/lib/dnnbrain/utils/vggish_input.py -> build/bdist.linux-x86_64/egg/dnnbrain/utils\n",
            "copying build/lib/dnnbrain/utils/util.py -> build/bdist.linux-x86_64/egg/dnnbrain/utils\n",
            "creating build/bdist.linux-x86_64/egg/dnnbrain/io\n",
            "copying build/lib/dnnbrain/io/fileio.py -> build/bdist.linux-x86_64/egg/dnnbrain/io\n",
            "copying build/lib/dnnbrain/io/__init__.py -> build/bdist.linux-x86_64/egg/dnnbrain/io\n",
            "byte-compiling build/bdist.linux-x86_64/egg/dnnbrain/dnn/base.py to base.cpython-37.pyc\n",
            "byte-compiling build/bdist.linux-x86_64/egg/dnnbrain/dnn/models.py to models.cpython-37.pyc\n",
            "byte-compiling build/bdist.linux-x86_64/egg/dnnbrain/dnn/core.py to core.cpython-37.pyc\n",
            "byte-compiling build/bdist.linux-x86_64/egg/dnnbrain/dnn/__init__.py to __init__.cpython-37.pyc\n",
            "byte-compiling build/bdist.linux-x86_64/egg/dnnbrain/dnn/algo.py to algo.cpython-37.pyc\n",
            "byte-compiling build/bdist.linux-x86_64/egg/dnnbrain/brain/core.py to core.cpython-37.pyc\n",
            "byte-compiling build/bdist.linux-x86_64/egg/dnnbrain/brain/io.py to io.cpython-37.pyc\n",
            "byte-compiling build/bdist.linux-x86_64/egg/dnnbrain/brain/__init__.py to __init__.cpython-37.pyc\n",
            "byte-compiling build/bdist.linux-x86_64/egg/dnnbrain/brain/algo.py to algo.cpython-37.pyc\n",
            "byte-compiling build/bdist.linux-x86_64/egg/dnnbrain/viz/__init__.py to __init__.cpython-37.pyc\n",
            "byte-compiling build/bdist.linux-x86_64/egg/dnnbrain/__init__.py to __init__.cpython-37.pyc\n",
            "byte-compiling build/bdist.linux-x86_64/egg/dnnbrain/utils/plot.py to plot.cpython-37.pyc\n",
            "byte-compiling build/bdist.linux-x86_64/egg/dnnbrain/utils/vggish_params.py to vggish_params.cpython-37.pyc\n",
            "byte-compiling build/bdist.linux-x86_64/egg/dnnbrain/utils/mel_features.py to mel_features.cpython-37.pyc\n",
            "byte-compiling build/bdist.linux-x86_64/egg/dnnbrain/utils/__init__.py to __init__.cpython-37.pyc\n",
            "byte-compiling build/bdist.linux-x86_64/egg/dnnbrain/utils/vggish_input.py to vggish_input.cpython-37.pyc\n",
            "byte-compiling build/bdist.linux-x86_64/egg/dnnbrain/utils/util.py to util.cpython-37.pyc\n",
            "byte-compiling build/bdist.linux-x86_64/egg/dnnbrain/io/fileio.py to fileio.cpython-37.pyc\n",
            "byte-compiling build/bdist.linux-x86_64/egg/dnnbrain/io/__init__.py to __init__.cpython-37.pyc\n",
            "creating build/bdist.linux-x86_64/egg/EGG-INFO\n",
            "installing scripts to build/bdist.linux-x86_64/egg/EGG-INFO/scripts\n",
            "running install_scripts\n",
            "running build_scripts\n",
            "creating build/scripts-3.7\n",
            "copying and adjusting bin/dnn_rotation -> build/scripts-3.7\n",
            "copying and adjusting bin/dnn_rsa -> build/scripts-3.7\n",
            "copying and adjusting bin/dnn_mask -> build/scripts-3.7\n",
            "copying and adjusting bin/db_hrf -> build/scripts-3.7\n",
            "copying and adjusting bin/dnn_topstim -> build/scripts-3.7\n",
            "copying and adjusting bin/dnn_rf_sw -> build/scripts-3.7\n",
            "copying and adjusting bin/dnn_act -> build/scripts-3.7\n",
            "copying and adjusting bin/db_encode -> build/scripts-3.7\n",
            "copying and adjusting bin/brain_rsa -> build/scripts-3.7\n",
            "copying and adjusting bin/dnn_ablation -> build/scripts-3.7\n",
            "copying and adjusting bin/dnn_optstim -> build/scripts-3.7\n",
            "copying and adjusting bin/db_corr -> build/scripts-3.7\n",
            "copying and adjusting bin/brain_roi -> build/scripts-3.7\n",
            "copying and adjusting bin/db_topo -> build/scripts-3.7\n",
            "copying and adjusting bin/dnn_pool -> build/scripts-3.7\n",
            "copying and adjusting bin/dnn_finetune -> build/scripts-3.7\n",
            "copying and adjusting bin/dnn_probe -> build/scripts-3.7\n",
            "copying and adjusting bin/db_decode -> build/scripts-3.7\n",
            "copying and adjusting bin/dnn_rf_us -> build/scripts-3.7\n",
            "copying and adjusting bin/dnn_minstim -> build/scripts-3.7\n",
            "copying and adjusting bin/dnn_fe -> build/scripts-3.7\n",
            "copying and adjusting bin/db_info -> build/scripts-3.7\n",
            "copying and adjusting bin/dnn_view -> build/scripts-3.7\n",
            "copying and adjusting bin/dnn_saliency -> build/scripts-3.7\n",
            "changing mode of build/scripts-3.7/dnn_rotation from 644 to 755\n",
            "changing mode of build/scripts-3.7/dnn_rsa from 644 to 755\n",
            "changing mode of build/scripts-3.7/dnn_mask from 644 to 755\n",
            "changing mode of build/scripts-3.7/db_hrf from 644 to 755\n",
            "changing mode of build/scripts-3.7/dnn_topstim from 644 to 755\n",
            "changing mode of build/scripts-3.7/dnn_rf_sw from 644 to 755\n",
            "changing mode of build/scripts-3.7/dnn_act from 644 to 755\n",
            "changing mode of build/scripts-3.7/db_encode from 644 to 755\n",
            "changing mode of build/scripts-3.7/brain_rsa from 644 to 755\n",
            "changing mode of build/scripts-3.7/dnn_ablation from 644 to 755\n",
            "changing mode of build/scripts-3.7/dnn_optstim from 644 to 755\n",
            "changing mode of build/scripts-3.7/db_corr from 644 to 755\n",
            "changing mode of build/scripts-3.7/brain_roi from 644 to 755\n",
            "changing mode of build/scripts-3.7/db_topo from 644 to 755\n",
            "changing mode of build/scripts-3.7/dnn_pool from 644 to 755\n",
            "changing mode of build/scripts-3.7/dnn_finetune from 644 to 755\n",
            "changing mode of build/scripts-3.7/dnn_probe from 644 to 755\n",
            "changing mode of build/scripts-3.7/db_decode from 644 to 755\n",
            "changing mode of build/scripts-3.7/dnn_rf_us from 644 to 755\n",
            "changing mode of build/scripts-3.7/dnn_minstim from 644 to 755\n",
            "changing mode of build/scripts-3.7/dnn_fe from 644 to 755\n",
            "changing mode of build/scripts-3.7/db_info from 644 to 755\n",
            "changing mode of build/scripts-3.7/dnn_view from 644 to 755\n",
            "changing mode of build/scripts-3.7/dnn_saliency from 644 to 755\n",
            "creating build/bdist.linux-x86_64/egg/EGG-INFO/scripts\n",
            "copying build/scripts-3.7/dnn_rotation -> build/bdist.linux-x86_64/egg/EGG-INFO/scripts\n",
            "copying build/scripts-3.7/dnn_rsa -> build/bdist.linux-x86_64/egg/EGG-INFO/scripts\n",
            "copying build/scripts-3.7/dnn_mask -> build/bdist.linux-x86_64/egg/EGG-INFO/scripts\n",
            "copying build/scripts-3.7/db_hrf -> build/bdist.linux-x86_64/egg/EGG-INFO/scripts\n",
            "copying build/scripts-3.7/dnn_topstim -> build/bdist.linux-x86_64/egg/EGG-INFO/scripts\n",
            "copying build/scripts-3.7/dnn_rf_sw -> build/bdist.linux-x86_64/egg/EGG-INFO/scripts\n",
            "copying build/scripts-3.7/dnn_act -> build/bdist.linux-x86_64/egg/EGG-INFO/scripts\n",
            "copying build/scripts-3.7/db_encode -> build/bdist.linux-x86_64/egg/EGG-INFO/scripts\n",
            "copying build/scripts-3.7/brain_rsa -> build/bdist.linux-x86_64/egg/EGG-INFO/scripts\n",
            "copying build/scripts-3.7/dnn_ablation -> build/bdist.linux-x86_64/egg/EGG-INFO/scripts\n",
            "copying build/scripts-3.7/dnn_optstim -> build/bdist.linux-x86_64/egg/EGG-INFO/scripts\n",
            "copying build/scripts-3.7/db_corr -> build/bdist.linux-x86_64/egg/EGG-INFO/scripts\n",
            "copying build/scripts-3.7/brain_roi -> build/bdist.linux-x86_64/egg/EGG-INFO/scripts\n",
            "copying build/scripts-3.7/db_topo -> build/bdist.linux-x86_64/egg/EGG-INFO/scripts\n",
            "copying build/scripts-3.7/dnn_pool -> build/bdist.linux-x86_64/egg/EGG-INFO/scripts\n",
            "copying build/scripts-3.7/dnn_finetune -> build/bdist.linux-x86_64/egg/EGG-INFO/scripts\n",
            "copying build/scripts-3.7/dnn_probe -> build/bdist.linux-x86_64/egg/EGG-INFO/scripts\n",
            "copying build/scripts-3.7/db_decode -> build/bdist.linux-x86_64/egg/EGG-INFO/scripts\n",
            "copying build/scripts-3.7/dnn_rf_us -> build/bdist.linux-x86_64/egg/EGG-INFO/scripts\n",
            "copying build/scripts-3.7/dnn_minstim -> build/bdist.linux-x86_64/egg/EGG-INFO/scripts\n",
            "copying build/scripts-3.7/dnn_fe -> build/bdist.linux-x86_64/egg/EGG-INFO/scripts\n",
            "copying build/scripts-3.7/db_info -> build/bdist.linux-x86_64/egg/EGG-INFO/scripts\n",
            "copying build/scripts-3.7/dnn_view -> build/bdist.linux-x86_64/egg/EGG-INFO/scripts\n",
            "copying build/scripts-3.7/dnn_saliency -> build/bdist.linux-x86_64/egg/EGG-INFO/scripts\n",
            "changing mode of build/bdist.linux-x86_64/egg/EGG-INFO/scripts/dnn_rotation to 755\n",
            "changing mode of build/bdist.linux-x86_64/egg/EGG-INFO/scripts/dnn_rsa to 755\n",
            "changing mode of build/bdist.linux-x86_64/egg/EGG-INFO/scripts/dnn_mask to 755\n",
            "changing mode of build/bdist.linux-x86_64/egg/EGG-INFO/scripts/db_hrf to 755\n",
            "changing mode of build/bdist.linux-x86_64/egg/EGG-INFO/scripts/dnn_topstim to 755\n",
            "changing mode of build/bdist.linux-x86_64/egg/EGG-INFO/scripts/dnn_rf_sw to 755\n",
            "changing mode of build/bdist.linux-x86_64/egg/EGG-INFO/scripts/dnn_act to 755\n",
            "changing mode of build/bdist.linux-x86_64/egg/EGG-INFO/scripts/db_encode to 755\n",
            "changing mode of build/bdist.linux-x86_64/egg/EGG-INFO/scripts/brain_rsa to 755\n",
            "changing mode of build/bdist.linux-x86_64/egg/EGG-INFO/scripts/dnn_ablation to 755\n",
            "changing mode of build/bdist.linux-x86_64/egg/EGG-INFO/scripts/dnn_optstim to 755\n",
            "changing mode of build/bdist.linux-x86_64/egg/EGG-INFO/scripts/db_corr to 755\n",
            "changing mode of build/bdist.linux-x86_64/egg/EGG-INFO/scripts/brain_roi to 755\n",
            "changing mode of build/bdist.linux-x86_64/egg/EGG-INFO/scripts/db_topo to 755\n",
            "changing mode of build/bdist.linux-x86_64/egg/EGG-INFO/scripts/dnn_pool to 755\n",
            "changing mode of build/bdist.linux-x86_64/egg/EGG-INFO/scripts/dnn_finetune to 755\n",
            "changing mode of build/bdist.linux-x86_64/egg/EGG-INFO/scripts/dnn_probe to 755\n",
            "changing mode of build/bdist.linux-x86_64/egg/EGG-INFO/scripts/db_decode to 755\n",
            "changing mode of build/bdist.linux-x86_64/egg/EGG-INFO/scripts/dnn_rf_us to 755\n",
            "changing mode of build/bdist.linux-x86_64/egg/EGG-INFO/scripts/dnn_minstim to 755\n",
            "changing mode of build/bdist.linux-x86_64/egg/EGG-INFO/scripts/dnn_fe to 755\n",
            "changing mode of build/bdist.linux-x86_64/egg/EGG-INFO/scripts/db_info to 755\n",
            "changing mode of build/bdist.linux-x86_64/egg/EGG-INFO/scripts/dnn_view to 755\n",
            "changing mode of build/bdist.linux-x86_64/egg/EGG-INFO/scripts/dnn_saliency to 755\n",
            "copying dnnbrain.egg-info/PKG-INFO -> build/bdist.linux-x86_64/egg/EGG-INFO\n",
            "copying dnnbrain.egg-info/SOURCES.txt -> build/bdist.linux-x86_64/egg/EGG-INFO\n",
            "copying dnnbrain.egg-info/dependency_links.txt -> build/bdist.linux-x86_64/egg/EGG-INFO\n",
            "copying dnnbrain.egg-info/top_level.txt -> build/bdist.linux-x86_64/egg/EGG-INFO\n",
            "zip_safe flag not set; analyzing archive contents...\n",
            "creating dist\n",
            "creating 'dist/dnnbrain-1.0a0-py3.7.egg' and adding 'build/bdist.linux-x86_64/egg' to it\n",
            "removing 'build/bdist.linux-x86_64/egg' (and everything under it)\n",
            "Processing dnnbrain-1.0a0-py3.7.egg\n",
            "Copying dnnbrain-1.0a0-py3.7.egg to /usr/local/lib/python3.7/dist-packages\n",
            "Adding dnnbrain 1.0a0 to easy-install.pth file\n",
            "Installing brain_roi script to /usr/local/bin\n",
            "Installing brain_rsa script to /usr/local/bin\n",
            "Installing db_corr script to /usr/local/bin\n",
            "Installing db_decode script to /usr/local/bin\n",
            "Installing db_encode script to /usr/local/bin\n",
            "Installing db_hrf script to /usr/local/bin\n",
            "Installing db_info script to /usr/local/bin\n",
            "Installing db_topo script to /usr/local/bin\n",
            "Installing dnn_ablation script to /usr/local/bin\n",
            "Installing dnn_act script to /usr/local/bin\n",
            "Installing dnn_fe script to /usr/local/bin\n",
            "Installing dnn_finetune script to /usr/local/bin\n",
            "Installing dnn_mask script to /usr/local/bin\n",
            "Installing dnn_minstim script to /usr/local/bin\n",
            "Installing dnn_optstim script to /usr/local/bin\n",
            "Installing dnn_pool script to /usr/local/bin\n",
            "Installing dnn_probe script to /usr/local/bin\n",
            "Installing dnn_rf_sw script to /usr/local/bin\n",
            "Installing dnn_rf_us script to /usr/local/bin\n",
            "Installing dnn_rotation script to /usr/local/bin\n",
            "Installing dnn_rsa script to /usr/local/bin\n",
            "Installing dnn_saliency script to /usr/local/bin\n",
            "Installing dnn_topstim script to /usr/local/bin\n",
            "Installing dnn_view script to /usr/local/bin\n",
            "\n",
            "Installed /usr/local/lib/python3.7/dist-packages/dnnbrain-1.0a0-py3.7.egg\n",
            "Processing dependencies for dnnbrain==1.0a0\n",
            "Finished processing dependencies for dnnbrain==1.0a0\n"
          ],
          "name": "stdout"
        }
      ]
    },
    {
      "cell_type": "code",
      "metadata": {
        "id": "hVkBLVKdRHO1"
      },
      "source": [
        "!mkdir data\n",
        "!mkdir data/models\n",
        "!mkdir data/dataset"
      ],
      "execution_count": null,
      "outputs": []
    },
    {
      "cell_type": "code",
      "metadata": {
        "colab": {
          "base_uri": "https://localhost:8080/"
        },
        "id": "RkThVKUVRJPg",
        "outputId": "f9446891-2f4b-4438-e9bb-c0eeafe8068a"
      },
      "source": [
        "import os\n",
        "\n",
        "os.environ['DNNBRAIN_DATA'] = os.path.abspath('data');\n",
        "os.environ['PATH'] = os.path.abspath('bin') + \":\" + os.getenv('PATH');\n",
        "os.environ['PYTHONPATH'] = os.path.abspath('../dnnbrain') + \":\" + os.getenv('PYTHONPATH');\n",
        "\n",
        "print(os.getenv('DNNBRAIN_DATA'))\n",
        "print(os.getenv('PATH'))\n",
        "print(os.getenv('PYTHONPATH'))"
      ],
      "execution_count": null,
      "outputs": [
        {
          "output_type": "stream",
          "text": [
            "/content/dnnbrain/data\n",
            "/content/dnnbrain/bin:/usr/local/nvidia/bin:/usr/local/cuda/bin:/usr/local/sbin:/usr/local/bin:/usr/sbin:/usr/bin:/sbin:/bin:/tools/node/bin:/tools/google-cloud-sdk/bin:/opt/bin\n",
            "/content/dnnbrain:/env/python\n"
          ],
          "name": "stdout"
        }
      ]
    },
    {
      "cell_type": "code",
      "metadata": {
        "colab": {
          "base_uri": "https://localhost:8080/"
        },
        "id": "7wZyoLAwRU8M",
        "outputId": "e4473142-f2d6-4e0c-d0bf-d45a4147ae91"
      },
      "source": [
        "!pip install nipy\n",
        "!pip install cifti"
      ],
      "execution_count": null,
      "outputs": [
        {
          "output_type": "stream",
          "text": [
            "Collecting nipy\n",
            "  Downloading nipy-0.5.0-cp37-cp37m-manylinux1_x86_64.whl (2.3 MB)\n",
            "\u001b[K     |████████████████████████████████| 2.3 MB 4.4 MB/s \n",
            "\u001b[?25hRequirement already satisfied: nibabel>=2.0 in /usr/local/lib/python3.7/dist-packages (from nipy) (3.0.2)\n",
            "Requirement already satisfied: scipy>=1.0.0 in /usr/local/lib/python3.7/dist-packages (from nipy) (1.4.1)\n",
            "Requirement already satisfied: sympy>=1.0 in /usr/local/lib/python3.7/dist-packages (from nipy) (1.7.1)\n",
            "Requirement already satisfied: numpy>=1.12 in /usr/local/lib/python3.7/dist-packages (from nibabel>=2.0->nipy) (1.19.5)\n",
            "Requirement already satisfied: mpmath>=0.19 in /usr/local/lib/python3.7/dist-packages (from sympy>=1.0->nipy) (1.2.1)\n",
            "Installing collected packages: nipy\n",
            "Successfully installed nipy-0.5.0\n",
            "Collecting cifti\n",
            "  Downloading cifti-1.1-py2.py3-none-any.whl (15 kB)\n",
            "Requirement already satisfied: nibabel>=2.2 in /usr/local/lib/python3.7/dist-packages (from cifti) (3.0.2)\n",
            "Requirement already satisfied: six in /usr/local/lib/python3.7/dist-packages (from cifti) (1.15.0)\n",
            "Requirement already satisfied: numpy in /usr/local/lib/python3.7/dist-packages (from cifti) (1.19.5)\n",
            "Installing collected packages: cifti\n",
            "Successfully installed cifti-1.1\n"
          ],
          "name": "stdout"
        }
      ]
    },
    {
      "cell_type": "code",
      "metadata": {
        "colab": {
          "base_uri": "https://localhost:8080/"
        },
        "id": "8rJsCmZfRZtB",
        "outputId": "5f107e44-f834-4706-8d40-ee9c23d788f3"
      },
      "source": [
        "import requests\n",
        "url = \"https://download.pytorch.org/models/alexnet-owt-4df8aa71.pth\"\n",
        "r = requests.get(url, allow_redirects=True)\n",
        "open('/content/dnnbrain/data/models/alexnet.pth', 'wb').write(r.content)"
      ],
      "execution_count": null,
      "outputs": [
        {
          "output_type": "execute_result",
          "data": {
            "text/plain": [
              "244418560"
            ]
          },
          "metadata": {
            "tags": []
          },
          "execution_count": 6
        }
      ]
    },
    {
      "cell_type": "code",
      "metadata": {
        "colab": {
          "base_uri": "https://localhost:8080/"
        },
        "id": "_ZxJgSinRaoQ",
        "outputId": "c51ef58c-a21a-4906-ab68-ab4be8ecbe14"
      },
      "source": [
        "url = \"https://raw.githubusercontent.com/AjinkyaChavan9/RGB-Color-Classifier-with-Deep-Learning-using-Keras-and-Tensorflow/master/Dataset/final_data.csv\"\n",
        "r = requests.get(url, allow_redirects=True)\n",
        "open('/content/dnnbrain/data/dataset/colors.csv', 'wb').write(r.content)"
      ],
      "execution_count": null,
      "outputs": [
        {
          "output_type": "execute_result",
          "data": {
            "text/plain": [
              "88112"
            ]
          },
          "metadata": {
            "tags": []
          },
          "execution_count": 7
        }
      ]
    },
    {
      "cell_type": "code",
      "metadata": {
        "id": "WERMOopESu2W"
      },
      "source": [
        "import os\n",
        "import numpy as np\n",
        "import pandas as pd"
      ],
      "execution_count": null,
      "outputs": []
    },
    {
      "cell_type": "code",
      "metadata": {
        "colab": {
          "base_uri": "https://localhost:8080/",
          "height": 204
        },
        "id": "Mqc5cpu8S6Vw",
        "outputId": "4048d357-b46c-4d6b-aa27-01996a5b3da0"
      },
      "source": [
        "# rgb values for data generation\n",
        "colors = pd.read_csv('/content/dnnbrain/data/dataset/colors.csv')\n",
        "colors.head()"
      ],
      "execution_count": null,
      "outputs": [
        {
          "output_type": "execute_result",
          "data": {
            "text/html": [
              "<div>\n",
              "<style scoped>\n",
              "    .dataframe tbody tr th:only-of-type {\n",
              "        vertical-align: middle;\n",
              "    }\n",
              "\n",
              "    .dataframe tbody tr th {\n",
              "        vertical-align: top;\n",
              "    }\n",
              "\n",
              "    .dataframe thead th {\n",
              "        text-align: right;\n",
              "    }\n",
              "</style>\n",
              "<table border=\"1\" class=\"dataframe\">\n",
              "  <thead>\n",
              "    <tr style=\"text-align: right;\">\n",
              "      <th></th>\n",
              "      <th>red</th>\n",
              "      <th>green</th>\n",
              "      <th>blue</th>\n",
              "      <th>label</th>\n",
              "    </tr>\n",
              "  </thead>\n",
              "  <tbody>\n",
              "    <tr>\n",
              "      <th>0</th>\n",
              "      <td>20</td>\n",
              "      <td>139</td>\n",
              "      <td>240</td>\n",
              "      <td>Blue</td>\n",
              "    </tr>\n",
              "    <tr>\n",
              "      <th>1</th>\n",
              "      <td>174</td>\n",
              "      <td>83</td>\n",
              "      <td>72</td>\n",
              "      <td>Brown</td>\n",
              "    </tr>\n",
              "    <tr>\n",
              "      <th>2</th>\n",
              "      <td>144</td>\n",
              "      <td>249</td>\n",
              "      <td>131</td>\n",
              "      <td>Green</td>\n",
              "    </tr>\n",
              "    <tr>\n",
              "      <th>3</th>\n",
              "      <td>168</td>\n",
              "      <td>25</td>\n",
              "      <td>156</td>\n",
              "      <td>Pink</td>\n",
              "    </tr>\n",
              "    <tr>\n",
              "      <th>4</th>\n",
              "      <td>30</td>\n",
              "      <td>182</td>\n",
              "      <td>136</td>\n",
              "      <td>Green</td>\n",
              "    </tr>\n",
              "  </tbody>\n",
              "</table>\n",
              "</div>"
            ],
            "text/plain": [
              "   red  green  blue  label\n",
              "0   20    139   240   Blue\n",
              "1  174     83    72  Brown\n",
              "2  144    249   131  Green\n",
              "3  168     25   156   Pink\n",
              "4   30    182   136  Green"
            ]
          },
          "metadata": {
            "tags": []
          },
          "execution_count": 9
        }
      ]
    },
    {
      "cell_type": "code",
      "metadata": {
        "id": "QrDJjvkOcWoZ"
      },
      "source": [
        "# create images using the rgb value\n",
        "m = len(colors)\n",
        "height, width = 224, 224\n",
        "X = np.zeros((m, 3, height, width), np.uint8)\n",
        "X[:] = np.reshape(colors[['red', 'green', 'blue']].values, (m, 3, 1, 1))"
      ],
      "execution_count": null,
      "outputs": []
    },
    {
      "cell_type": "code",
      "metadata": {
        "colab": {
          "base_uri": "https://localhost:8080/"
        },
        "id": "EmyAUkXkX2r7",
        "outputId": "68505a09-cbb7-4aab-95a1-99ab75d55ab9"
      },
      "source": [
        "# give Labels to color names (Pytorch does not support One Hot Encoding)\n",
        "from sklearn.preprocessing import LabelEncoder\n",
        "encoder = LabelEncoder()\n",
        "y = encoder.fit_transform(colors['label'])\n",
        "y"
      ],
      "execution_count": null,
      "outputs": [
        {
          "output_type": "execute_result",
          "data": {
            "text/plain": [
              "array([1, 2, 3, ..., 0, 0, 0])"
            ]
          },
          "metadata": {
            "tags": []
          },
          "execution_count": 11
        }
      ]
    },
    {
      "cell_type": "code",
      "metadata": {
        "id": "L-MQiAt_l_-M"
      },
      "source": [
        "from sklearn.model_selection import train_test_split\n",
        "X_train, X_val, y_train, y_val = train_test_split(X, y, test_size=0.15, random_state=42)"
      ],
      "execution_count": null,
      "outputs": []
    },
    {
      "cell_type": "code",
      "metadata": {
        "id": "dU15NAMYnwlT"
      },
      "source": [
        "#finetuning Code\n",
        "import torch\n",
        "import pickle as pkl\n",
        "from dnnbrain.dnn.models import AlexNet\n",
        "from dnnbrain.dnn.core import Stimulus\n",
        "# change models.py  (introduce the \"target_validation\" parameter there)\n",
        "dnn = AlexNet()\n",
        "n_in_feat = dnn.model.classifier[6].in_features\n",
        "dnn.model.classifier[6] = torch.nn.Linear(n_in_feat, 11)\n",
        "train_dict = dnn.train(X_train, 20, 'classification', target=y_train, data_train=True, data_validation=X_val, target_validation=y_val)\n",
        "pkl.dump(train_dict, open('/content/dnnbrain/data/models/train_dict.pkl', 'wb'))\n",
        "dnn.save('/content/dnnbrain/data/models/alexnet_tl_finetune_1.pth')"
      ],
      "execution_count": null,
      "outputs": []
    },
    {
      "cell_type": "code",
      "metadata": {
        "id": "m1xw0Cksyaj7"
      },
      "source": [
        "from matplotlib import pyplot as plt"
      ],
      "execution_count": null,
      "outputs": []
    },
    {
      "cell_type": "code",
      "metadata": {
        "id": "OjFH6-dny4rJ"
      },
      "source": [
        "def plot_graphs(train_dict):\n",
        "  plt.figure()\n",
        "  plt.plot(train_dict['epoch_loss'])\n",
        "  plt.xlabel('epoch')\n",
        "  plt.ylabel('loss')\n",
        "  plt.show()\n",
        "\n",
        "  step_losses = []\n",
        "  for i in train_dict['step_loss']:\n",
        "      step_losses.extend(i)\n",
        "  plt.figure()\n",
        "  plt.plot(step_losses)\n",
        "  plt.xlabel('step')\n",
        "  plt.ylabel('loss')\n",
        "  plt.show()\n",
        "\n",
        "  plt.figure()\n",
        "  plt.plot(train_dict['score_train'], label='train')\n",
        "  plt.plot(train_dict['score_validation'], label='validation')\n",
        "  plt.xlabel('epoch')\n",
        "  plt.ylabel('accuracy')\n",
        "  plt.legend()\n",
        "  plt.show()"
      ],
      "execution_count": null,
      "outputs": []
    },
    {
      "cell_type": "code",
      "metadata": {
        "colab": {
          "base_uri": "https://localhost:8080/",
          "height": 803
        },
        "id": "JCJR4dS_zVnX",
        "outputId": "37bf6ba9-51b3-4225-b3cc-74e0e14dd023"
      },
      "source": [
        "train_dict = pkl.load(open('/content/dnnbrain/data/models/train_dict.pkl', 'rb'))\n",
        "plot_graphs(train_dict)"
      ],
      "execution_count": null,
      "outputs": [
        {
          "output_type": "display_data",
          "data": {
            "image/png": "[encoded data removed]",
            "text/plain": [
              "<Figure size 432x288 with 1 Axes>"
            ]
          },
          "metadata": {
            "tags": [],
            "needs_background": "light"
          }
        },
        {
          "output_type": "display_data",
          "data": {
            "image/png": "[encoded data removed]",
            "text/plain": [
              "<Figure size 432x288 with 1 Axes>"
            ]
          },
          "metadata": {
            "tags": [],
            "needs_background": "light"
          }
        },
        {
          "output_type": "display_data",
          "data": {
            "image/png": "[encoded data removed]",
            "text/plain": [
              "<Figure size 432x288 with 1 Axes>"
            ]
          },
          "metadata": {
            "tags": [],
            "needs_background": "light"
          }
        }
      ]
    },
    {
      "cell_type": "code",
      "metadata": {
        "colab": {
          "base_uri": "https://localhost:8080/"
        },
        "id": "dZQ1wiAC0SmK",
        "outputId": "6d516bc2-662f-4d55-dd1d-a8975a125470"
      },
      "source": [
        "import itertools\n",
        "\n",
        "dnn = AlexNet()\n",
        "n_in_feat = dnn.model.classifier[6].in_features\n",
        "dnn.model.classifier[6] = torch.nn.Linear(n_in_feat, 11)\n",
        "lr = 0.00001\n",
        "n_epoch = 20\n",
        "conv5_params = dnn.layer2module('conv5').parameters()\n",
        "fc3_params = dnn.model.classifier[6].parameters()\n",
        "optimizer = torch.optim.Adam(itertools.chain(conv5_params, fc3_params), lr)\n",
        "train_dict = dnn.train(X_train, n_epoch, 'classification', target=y_train, data_train=True, data_validation=X_val, target_validation=y_val)\n",
        "pkl.dump(train_dict, open('/content/dnnbrain/data/models/train_dict_1.pkl', 'wb'))\n",
        "dnn.save('/content/dnnbrain/data/models/alexnet_tl_finetune_2.pth')"
      ],
      "execution_count": null,
      "outputs": [
        {
          "output_type": "stream",
          "text": [
            "Epoch-1/20\n",
            "----------\n",
            "Loss: 0.8760391038464678\n",
            "Score_on_train: 0.7950628784350257\n",
            "Score_on_test: 0.7796833773087071\n",
            "This epoch costs 0m 41s\n",
            "\n",
            "Epoch-2/20\n",
            "----------\n",
            "Loss: 0.7377362871186007\n",
            "Score_on_train: 0.7349790405216581\n",
            "Score_on_test: 0.712401055408971\n",
            "This epoch costs 0m 41s\n",
            "\n",
            "Epoch-3/20\n",
            "----------\n",
            "Loss: 0.5826808653240932\n",
            "Score_on_train: 0.8514205868653936\n",
            "Score_on_test: 0.8245382585751979\n",
            "This epoch costs 0m 42s\n",
            "\n",
            "Epoch-4/20\n",
            "----------\n",
            "Loss: 0.5316958487672366\n",
            "Score_on_train: 0.8285980437820214\n",
            "Score_on_test: 0.8324538258575198\n",
            "This epoch costs 0m 40s\n",
            "\n",
            "Epoch-5/20\n",
            "----------\n",
            "Loss: 0.5111328667965832\n",
            "Score_on_train: 0.8390777829529577\n",
            "Score_on_test: 0.8311345646437994\n",
            "This epoch costs 0m 42s\n",
            "\n",
            "Epoch-6/20\n",
            "----------\n",
            "Loss: 0.5235422540666005\n",
            "Score_on_train: 0.8362831858407079\n",
            "Score_on_test: 0.8430079155672823\n",
            "This epoch costs 0m 41s\n",
            "\n",
            "Epoch-7/20\n",
            "----------\n",
            "Loss: 0.48271446478300223\n",
            "Score_on_train: 0.8346530041918957\n",
            "Score_on_test: 0.8350923482849604\n",
            "This epoch costs 0m 40s\n",
            "\n",
            "Epoch-8/20\n",
            "----------\n",
            "Loss: 0.45501381677627895\n",
            "Score_on_train: 0.8444340940847694\n",
            "Score_on_test: 0.8364116094986808\n",
            "This epoch costs 0m 41s\n",
            "\n",
            "Epoch-9/20\n",
            "----------\n",
            "Loss: 0.4524573903334768\n",
            "Score_on_train: 0.8157894736842105\n",
            "Score_on_test: 0.837730870712401\n",
            "This epoch costs 0m 40s\n",
            "\n",
            "Epoch-10/20\n",
            "----------\n",
            "Loss: 0.4968580166767184\n",
            "Score_on_train: 0.8579413134606427\n",
            "Score_on_test: 0.8443271767810027\n",
            "This epoch costs 0m 42s\n",
            "\n",
            "Epoch-11/20\n",
            "----------\n",
            "Loss: 0.4567444071583155\n",
            "Score_on_train: 0.875873311597578\n",
            "Score_on_test: 0.8614775725593667\n",
            "This epoch costs 0m 40s\n",
            "\n",
            "Epoch-12/20\n",
            "----------\n",
            "Loss: 0.47789516686893474\n",
            "Score_on_train: 0.8430367955286446\n",
            "Score_on_test: 0.8496042216358839\n",
            "This epoch costs 0m 41s\n",
            "\n",
            "Epoch-13/20\n",
            "----------\n",
            "Loss: 0.4726509403838187\n",
            "Score_on_train: 0.812063344201211\n",
            "Score_on_test: 0.8034300791556728\n",
            "This epoch costs 0m 40s\n",
            "\n",
            "Epoch-14/20\n",
            "----------\n",
            "Loss: 0.5072475461472341\n",
            "Score_on_train: 0.8339543549138333\n",
            "Score_on_test: 0.8364116094986808\n",
            "This epoch costs 0m 41s\n",
            "\n",
            "Epoch-15/20\n",
            "----------\n",
            "Loss: 0.4164828526512878\n",
            "Score_on_train: 0.8435025617140196\n",
            "Score_on_test: 0.8390501319261213\n",
            "This epoch costs 0m 41s\n",
            "\n",
            "Epoch-16/20\n",
            "----------\n",
            "Loss: 0.465633435732662\n",
            "Score_on_train: 0.8556124825337681\n",
            "Score_on_test: 0.8403693931398417\n",
            "This epoch costs 0m 40s\n",
            "\n",
            "Epoch-17/20\n",
            "----------\n",
            "Loss: 0.4320229427115996\n",
            "Score_on_train: 0.8258034466697718\n",
            "Score_on_test: 0.816622691292876\n",
            "This epoch costs 0m 41s\n",
            "\n",
            "Epoch-18/20\n",
            "----------\n",
            "Loss: 0.4448660291248996\n",
            "Score_on_train: 0.8227759664648346\n",
            "Score_on_test: 0.8364116094986808\n",
            "This epoch costs 0m 41s\n",
            "\n",
            "Epoch-19/20\n",
            "----------\n",
            "Loss: 0.4376337729987845\n",
            "Score_on_train: 0.8665579878900792\n",
            "Score_on_test: 0.837730870712401\n",
            "This epoch costs 0m 41s\n",
            "\n",
            "Epoch-20/20\n",
            "----------\n",
            "Loss: 0.4011560276768404\n",
            "Score_on_train: 0.8625989753143922\n",
            "Score_on_test: 0.8482849604221636\n",
            "This epoch costs 0m 40s\n",
            "\n",
            "Training complete in 13m 36s\n"
          ],
          "name": "stdout"
        }
      ]
    },
    {
      "cell_type": "code",
      "metadata": {
        "colab": {
          "base_uri": "https://localhost:8080/",
          "height": 803
        },
        "id": "CGfo10wU2na9",
        "outputId": "9ad59844-0888-4d8a-ee1c-ff9660564cfb"
      },
      "source": [
        "train_dict = pkl.load(open('/content/dnnbrain/data/models/train_dict_1.pkl', 'rb'))\n",
        "plot_graphs(train_dict)"
      ],
      "execution_count": null,
      "outputs": [
        {
          "output_type": "display_data",
          "data": {
            "image/png": "[encoded data removed]",
            "text/plain": [
              "<Figure size 432x288 with 1 Axes>"
            ]
          },
          "metadata": {
            "tags": [],
            "needs_background": "light"
          }
        },
        {
          "output_type": "display_data",
          "data": {
            "image/png": "[encoded data removed]",
            "text/plain": [
              "<Figure size 432x288 with 1 Axes>"
            ]
          },
          "metadata": {
            "tags": [],
            "needs_background": "light"
          }
        },
        {
          "output_type": "display_data",
          "data": {
            "image/png": "[encoded data removed]",
            "text/plain": [
              "<Figure size 432x288 with 1 Axes>"
            ]
          },
          "metadata": {
            "tags": [],
            "needs_background": "light"
          }
        }
      ]
    },
    {
      "cell_type": "code",
      "metadata": {
        "colab": {
          "base_uri": "https://localhost:8080/"
        },
        "id": "XeRjqi-q3Djk",
        "outputId": "676e4d07-7f80-4bcd-9a15-8800cdf2ab17"
      },
      "source": [
        "#feature extractor Code\n",
        "dnn = AlexNet()\n",
        "for param in dnn.model.parameters():\n",
        "    param.requires_grad = False\n",
        "n_in_feat = dnn.model.classifier[6].in_features\n",
        "dnn.model.classifier[6] = torch.nn.Linear(n_in_feat, 11)\n",
        "lr = 0.00001\n",
        "n_epoch = 20\n",
        "optimizer = torch.optim.Adam(dnn.model.classifier[6].parameters(), lr)\n",
        "train_dict = dnn.train(X_train, n_epoch, 'classification', target=y_train, data_train=True, data_validation=X_val, target_validation=y_val)\n",
        "pkl.dump(train_dict, open('/content/dnnbrain/data/models/train_dict_2.pkl', 'wb'))\n",
        "dnn.save('/content/dnnbrain/data/models/alexnet_tl_fixed_feature_extractor_1.pth')"
      ],
      "execution_count": null,
      "outputs": [
        {
          "output_type": "stream",
          "text": [
            "Epoch-1/20\n",
            "----------\n",
            "Loss: 0.7242492772586744\n",
            "Score_on_train: 0.843735444806707\n",
            "Score_on_test: 0.8614775725593667\n",
            "This epoch costs 0m 39s\n",
            "\n",
            "Epoch-2/20\n",
            "----------\n",
            "Loss: 0.45873190670108926\n",
            "Score_on_train: 0.8612016767582673\n",
            "Score_on_test: 0.8601583113456465\n",
            "This epoch costs 0m 39s\n",
            "\n",
            "Epoch-3/20\n",
            "----------\n",
            "Loss: 0.44051319729965344\n",
            "Score_on_train: 0.8665579878900792\n",
            "Score_on_test: 0.866754617414248\n",
            "This epoch costs 0m 38s\n",
            "\n",
            "Epoch-4/20\n",
            "----------\n",
            "Loss: 0.4305064912363158\n",
            "Score_on_train: 0.8691197019096414\n",
            "Score_on_test: 0.8614775725593667\n",
            "This epoch costs 0m 39s\n",
            "\n",
            "Epoch-5/20\n",
            "----------\n",
            "Loss: 0.4253448327030756\n",
            "Score_on_train: 0.8642291569632045\n",
            "Score_on_test: 0.8601583113456465\n",
            "This epoch costs 0m 38s\n",
            "\n",
            "Epoch-6/20\n",
            "----------\n",
            "Loss: 0.4292329858223338\n",
            "Score_on_train: 0.8607359105728924\n",
            "Score_on_test: 0.862796833773087\n",
            "This epoch costs 0m 40s\n",
            "\n",
            "Epoch-7/20\n",
            "----------\n",
            "Loss: 0.419044741181701\n",
            "Score_on_train: 0.8754075454122031\n",
            "Score_on_test: 0.8654353562005277\n",
            "This epoch costs 0m 39s\n",
            "\n",
            "Epoch-8/20\n",
            "----------\n",
            "Loss: 0.4133137523656009\n",
            "Score_on_train: 0.8551467163483931\n",
            "Score_on_test: 0.8390501319261213\n",
            "This epoch costs 0m 39s\n",
            "\n",
            "Epoch-9/20\n",
            "----------\n",
            "Loss: 0.4102799902280986\n",
            "Score_on_train: 0.8737773637633908\n",
            "Score_on_test: 0.8588390501319261\n",
            "This epoch costs 0m 38s\n",
            "\n",
            "Epoch-10/20\n",
            "----------\n",
            "Loss: 0.42022450296377434\n",
            "Score_on_train: 0.8630647414997671\n",
            "Score_on_test: 0.8535620052770448\n",
            "This epoch costs 0m 39s\n",
            "\n",
            "Epoch-11/20\n",
            "----------\n",
            "Loss: 0.4112404590992246\n",
            "Score_on_train: 0.8702841173730788\n",
            "Score_on_test: 0.8588390501319261\n",
            "This epoch costs 0m 38s\n",
            "\n",
            "Epoch-12/20\n",
            "----------\n",
            "Loss: 0.4100754816808643\n",
            "Score_on_train: 0.8798323241732651\n",
            "Score_on_test: 0.8680738786279684\n",
            "This epoch costs 0m 39s\n",
            "\n",
            "Epoch-13/20\n",
            "----------\n",
            "Loss: 0.40918893575612814\n",
            "Score_on_train: 0.8653935724266418\n",
            "Score_on_test: 0.8654353562005277\n",
            "This epoch costs 0m 39s\n",
            "\n",
            "Epoch-14/20\n",
            "----------\n",
            "Loss: 0.4046762744159992\n",
            "Score_on_train: 0.872380065207266\n",
            "Score_on_test: 0.8601583113456465\n",
            "This epoch costs 0m 40s\n",
            "\n",
            "Epoch-15/20\n",
            "----------\n",
            "Loss: 0.407630076811488\n",
            "Score_on_train: 0.8716814159292036\n",
            "Score_on_test: 0.8575197889182058\n",
            "This epoch costs 0m 38s\n",
            "\n",
            "Epoch-16/20\n",
            "----------\n",
            "Loss: 0.40152628415814656\n",
            "Score_on_train: 0.876339077782953\n",
            "Score_on_test: 0.8641160949868074\n",
            "This epoch costs 0m 39s\n",
            "\n",
            "Epoch-17/20\n",
            "----------\n",
            "Loss: 0.3943023735082144\n",
            "Score_on_train: 0.8700512342803912\n",
            "Score_on_test: 0.8693931398416886\n",
            "This epoch costs 0m 39s\n",
            "\n",
            "Epoch-18/20\n",
            "----------\n",
            "Loss: 0.39158678310218387\n",
            "Score_on_train: 0.8830926874708896\n",
            "Score_on_test: 0.8680738786279684\n",
            "This epoch costs 0m 39s\n",
            "\n",
            "Epoch-19/20\n",
            "----------\n",
            "Loss: 0.39372261871271874\n",
            "Score_on_train: 0.8854215183977643\n",
            "Score_on_test: 0.8799472295514512\n",
            "This epoch costs 0m 39s\n",
            "\n",
            "Epoch-20/20\n",
            "----------\n",
            "Loss: 0.39594491618730104\n",
            "Score_on_train: 0.8805309734513275\n",
            "Score_on_test: 0.8693931398416886\n",
            "This epoch costs 0m 38s\n",
            "\n",
            "Training complete in 12m 57s\n"
          ],
          "name": "stdout"
        }
      ]
    },
    {
      "cell_type": "code",
      "metadata": {
        "colab": {
          "base_uri": "https://localhost:8080/",
          "height": 803
        },
        "id": "9PABuAcu3_8t",
        "outputId": "1501eba8-cd1c-4aa4-c5ae-60bedae3d10b"
      },
      "source": [
        "train_dict = pkl.load(open('/content/dnnbrain/data/models/train_dict_2.pkl', 'rb'))\n",
        "plot_graphs(train_dict)"
      ],
      "execution_count": null,
      "outputs": [
        {
          "output_type": "display_data",
          "data": {
            "image/png": "[encoded data removed]",
            "text/plain": [
              "<Figure size 432x288 with 1 Axes>"
            ]
          },
          "metadata": {
            "tags": [],
            "needs_background": "light"
          }
        },
        {
          "output_type": "display_data",
          "data": {
            "image/png": "[encoded data removed]",
            "text/plain": [
              "<Figure size 432x288 with 1 Axes>"
            ]
          },
          "metadata": {
            "tags": [],
            "needs_background": "light"
          }
        },
        {
          "output_type": "display_data",
          "data": {
            "image/png": "[encoded data removed]",
            "text/plain": [
              "<Figure size 432x288 with 1 Axes>"
            ]
          },
          "metadata": {
            "tags": [],
            "needs_background": "light"
          }
        }
      ]
    },
    {
      "cell_type": "code",
      "metadata": {
        "id": "RUGdouFy1blV"
      },
      "source": [
        "import numpy as np\n",
        "import pickle as pkl\n",
        "\n",
        "from torch import nn\n",
        "from PIL import Image\n",
        "from os.path import join as pjoin\n",
        "from torchvision import transforms\n",
        "from torchvision import models as tv_models\n",
        "from dnnbrain.dnn.models import DNN\n",
        "from dnnbrain.dnn.core import Stimulus"
      ],
      "execution_count": null,
      "outputs": []
    },
    {
      "cell_type": "code",
      "metadata": {
        "id": "rFM1BuN61fzz"
      },
      "source": [
        "class Model(nn.Module):\n",
        "    def __init__(self):\n",
        "        super(Model, self).__init__()\n",
        "        self.conv = nn.Conv2d(3, 8, kernel_size=3, stride=2)\n",
        "        self.relu1 = nn.ReLU(inplace=True)\n",
        "        self.maxpool = nn.MaxPool2d(kernel_size=3, stride=2)\n",
        "        self.fc1 = nn.Linear(24200, 4096)\n",
        "        self.relu2 = nn.ReLU(inplace=True)\n",
        "        self.fc2 = nn.Linear(4096, 11)\n",
        "\n",
        "    def forward(self, x):\n",
        "        x = self.conv(x)\n",
        "        self.relu1(x)\n",
        "        x = self.maxpool(x)\n",
        "        x = x.view(x.size(0), -1)\n",
        "        x = self.fc1(x)\n",
        "        self.relu2(x)\n",
        "        x = self.fc2(x)\n",
        "        return x"
      ],
      "execution_count": null,
      "outputs": []
    },
    {
      "cell_type": "code",
      "metadata": {
        "id": "xFZvvPb-1jEe"
      },
      "source": [
        "img_size = (224, 224)\n",
        "mean = X.mean(axis=(0, 2, 3)) / 255\n",
        "std = X.std(axis=(0, 2, 3)) / 255\n",
        "normalize = transforms.Normalize(mean=mean, std=std)"
      ],
      "execution_count": null,
      "outputs": []
    },
    {
      "cell_type": "code",
      "metadata": {
        "id": "HuvmJDkX2ADV"
      },
      "source": [
        "class MyDNN(DNN):\n",
        "\n",
        "    def __init__(self):\n",
        "        super(MyDNN, self).__init__()\n",
        "        self.model = Model()\n",
        "        self.img_size = img_size\n",
        "        self.train_transform = transforms.Compose([\n",
        "            transforms.RandomResizedCrop(img_size),\n",
        "            transforms.RandomHorizontalFlip(),\n",
        "            transforms.ToTensor(),\n",
        "            normalize\n",
        "        ])\n",
        "        self.test_transform = transforms.Compose([\n",
        "            transforms.Resize(img_size),\n",
        "            transforms.ToTensor(),\n",
        "            normalize\n",
        "        ])\n",
        "\n",
        "\n",
        "dnn = MyDNN()"
      ],
      "execution_count": null,
      "outputs": []
    },
    {
      "cell_type": "code",
      "metadata": {
        "colab": {
          "base_uri": "https://localhost:8080/"
        },
        "id": "kSaucfAZ2Ekl",
        "outputId": "37b8d11b-4c09-4345-cc27-cff92afee755"
      },
      "source": [
        "# change model.py\n",
        "train_dict = dnn.train(X_train, 10, 'classification', target=y_train, data_train=True, data_validation=X_val, target_validation=y_val)\n",
        "\n",
        "# save information of training process\n",
        "pkl.dump(train_dict, open('/content/dnnbrain/data/models/train_dict_scratch.pkl', 'wb'))\n",
        "\n",
        "# save parameters of the DNN\n",
        "dnn.save('/content/dnnbrain/data/models/my_model.pth')"
      ],
      "execution_count": null,
      "outputs": [
        {
          "output_type": "stream",
          "text": [
            "Epoch-1/10\n",
            "----------\n"
          ],
          "name": "stdout"
        },
        {
          "output_type": "stream",
          "text": [
            "/usr/local/lib/python3.7/dist-packages/torch/nn/functional.py:718: UserWarning: Named tensors and all their associated APIs are an experimental feature and subject to change. Please do not use them for anything important until they are released as stable. (Triggered internally at  /pytorch/c10/core/TensorImpl.h:1156.)\n",
            "  return torch.max_pool2d(input, kernel_size, stride, padding, dilation, ceil_mode)\n"
          ],
          "name": "stderr"
        },
        {
          "output_type": "stream",
          "text": [
            "Loss: 2.3383295400841155\n",
            "Score_on_train: 0.7370749883558454\n",
            "Score_on_test: 0.7493403693931399\n",
            "This epoch costs 0m 26s\n",
            "\n",
            "Epoch-2/10\n",
            "----------\n",
            "Loss: 0.6639003844443288\n",
            "Score_on_train: 0.8295295761527713\n",
            "Score_on_test: 0.8218997361477572\n",
            "This epoch costs 0m 30s\n",
            "\n",
            "Epoch-3/10\n",
            "----------\n",
            "Loss: 0.48176162764881175\n",
            "Score_on_train: 0.8311597578015836\n",
            "Score_on_test: 0.8179419525065963\n",
            "This epoch costs 0m 30s\n",
            "\n",
            "Epoch-4/10\n",
            "----------\n",
            "Loss: 0.4311492989125172\n",
            "Score_on_train: 0.8248719142990218\n",
            "Score_on_test: 0.820580474934037\n",
            "This epoch costs 0m 29s\n",
            "\n",
            "Epoch-5/10\n",
            "----------\n",
            "Loss: 0.4502537214011995\n",
            "Score_on_train: 0.7955286446204005\n",
            "Score_on_test: 0.8047493403693932\n",
            "This epoch costs 0m 30s\n",
            "\n",
            "Epoch-6/10\n",
            "----------\n",
            "Loss: 0.4231298434273498\n",
            "Score_on_train: 0.8183511877037727\n",
            "Score_on_test: 0.7915567282321899\n",
            "This epoch costs 0m 31s\n",
            "\n",
            "Epoch-7/10\n",
            "----------\n",
            "Loss: 0.3965182024820716\n",
            "Score_on_train: 0.8563111318118305\n",
            "Score_on_test: 0.8311345646437994\n",
            "This epoch costs 0m 31s\n",
            "\n",
            "Epoch-8/10\n",
            "----------\n",
            "Loss: 0.4158275675706992\n",
            "Score_on_train: 0.8474615742897066\n",
            "Score_on_test: 0.8311345646437994\n",
            "This epoch costs 0m 30s\n",
            "\n",
            "Epoch-9/10\n",
            "----------\n",
            "Loss: 0.41421710261159794\n",
            "Score_on_train: 0.8619003260363297\n",
            "Score_on_test: 0.841688654353562\n",
            "This epoch costs 0m 29s\n",
            "\n",
            "Epoch-10/10\n",
            "----------\n",
            "Loss: 0.3889342715254927\n",
            "Score_on_train: 0.8507219375873312\n",
            "Score_on_test: 0.8337730870712401\n",
            "This epoch costs 0m 30s\n",
            "\n",
            "Training complete in 5m 7s\n"
          ],
          "name": "stdout"
        }
      ]
    },
    {
      "cell_type": "code",
      "metadata": {
        "colab": {
          "base_uri": "https://localhost:8080/",
          "height": 803
        },
        "id": "2FP6eWdy7WIF",
        "outputId": "8d3a5fdd-5336-42db-b1d6-c6cbaf4520c4"
      },
      "source": [
        "train_dict = pkl.load(open('/content/dnnbrain/data/models/train_dict_scratch.pkl', 'rb'))\n",
        "plot_graphs(train_dict)"
      ],
      "execution_count": null,
      "outputs": [
        {
          "output_type": "display_data",
          "data": {
            "image/png": "[encoded data removed]",
            "text/plain": [
              "<Figure size 432x288 with 1 Axes>"
            ]
          },
          "metadata": {
            "tags": [],
            "needs_background": "light"
          }
        },
        {
          "output_type": "display_data",
          "data": {
            "image/png": "[encoded data removed]",
            "text/plain": [
              "<Figure size 432x288 with 1 Axes>"
            ]
          },
          "metadata": {
            "tags": [],
            "needs_background": "light"
          }
        },
        {
          "output_type": "display_data",
          "data": {
            "image/png": "[encoded data removed]",
            "text/plain": [
              "<Figure size 432x288 with 1 Axes>"
            ]
          },
          "metadata": {
            "tags": [],
            "needs_background": "light"
          }
        }
      ]
    },
    {
      "cell_type": "code",
      "metadata": {
        "id": "8kfwm8wdAEIv"
      },
      "source": [
        ""
      ],
      "execution_count": null,
      "outputs": []
    }
  ]
}